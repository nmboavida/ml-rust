{
 "cells": [
  {
   "cell_type": "code",
   "execution_count": null,
   "id": "7c09b715-10a5-41fd-b93d-f96383f6f456",
   "metadata": {},
   "outputs": [],
   "source": [
    "struct Perceptron {\n",
    "    weights: Vec<f64>,\n",
    "    bias: f64,\n",
    "    learning_rate: f64,\n",
    "}\n",
    "\n",
    "impl Perceptron {\n",
    "    fn new(input_size: usize, learning_rate: f64) -> Perceptron {\n",
    "        Perceptron {\n",
    "            weights: vec![0.0; input_size],\n",
    "            bias: 0.0,\n",
    "            learning_rate,\n",
    "        }\n",
    "    }\n",
    "}"
   ]
  },
  {
   "cell_type": "code",
   "execution_count": null,
   "id": "21180189-df0d-4039-a5d1-0d539050f315",
   "metadata": {},
   "outputs": [],
   "source": [
    "impl Perceptron {\n",
    "    fn predict(&self, inputs: &Vec<f64>) -> f64 {\n",
    "        let weighted_sum: f64 = self\n",
    "            .weights\n",
    "            .iter()\n",
    "            .zip(inputs.iter())\n",
    "            .map(|(w, &i)| w * i).sum();\n",
    "\n",
    "        let weighted_sum_with_bias = weighted_sum + self.bias;\n",
    "        let result = Perceptron::activation(weighted_sum_with_bias);\n",
    "\n",
    "        result\n",
    "        \n",
    "    }\n",
    "\n",
    "    /// The Activation Function's job is to compress the state\n",
    "    /// of the polynomial output into a binary classification\n",
    "    fn activation(polynomial_output: f64) -> f64 {\n",
    "        if polynomial_output > 0.0 { 1.0 } else { 0.0 }\n",
    "    }\n",
    "}\n"
   ]
  },
  {
   "cell_type": "code",
   "execution_count": null,
   "id": "670d0eff-f5b4-446a-820e-584ddea93f4c",
   "metadata": {},
   "outputs": [],
   "source": [
    "impl Perceptron {\n",
    "    fn train(&mut self, training_data: &[(Vec<f64>, f64)]) {\n",
    "        for &(ref inputs, target) in training_data.iter() {\n",
    "            let output = self.predict(inputs);\n",
    "            let error = target - output;\n",
    "            for (w, &i) in self.weights.iter_mut().zip(inputs.iter()) {\n",
    "                *w += self.learning_rate * error * i;\n",
    "            }\n",
    "            self.bias += self.learning_rate * error;\n",
    "        }\n",
    "    }\n",
    "}"
   ]
  }
 ],
 "metadata": {
  "kernelspec": {
   "display_name": "Rust",
   "language": "rust",
   "name": "rust"
  },
  "language_info": {
   "codemirror_mode": "rust",
   "file_extension": ".rs",
   "mimetype": "text/rust",
   "name": "Rust",
   "pygment_lexer": "rust",
   "version": ""
  }
 },
 "nbformat": 4,
 "nbformat_minor": 5
}
